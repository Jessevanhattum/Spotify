{
 "cells": [
  {
   "cell_type": "code",
   "execution_count": 10,
   "metadata": {},
   "outputs": [
    {
     "name": "stderr",
     "output_type": "stream",
     "text": [
      "[WDM] - Current google-chrome version is 84.0.4147\n",
      "[WDM] - Get LATEST driver version for 84.0.4147\n",
      "[WDM] - Driver [C:\\Users\\jesse\\.wdm\\drivers\\chromedriver\\win32\\84.0.4147.30\\chromedriver.exe] found in cache\n"
     ]
    },
    {
     "name": "stdout",
     "output_type": "stream",
     "text": [
      " \n"
     ]
    }
   ],
   "source": [
    "\"\"\"\n",
    "Script to scroll through the Spotify newsroom (click on \"load more\" subsequently)\n",
    "\"\"\"\n",
    "\n",
    "\n",
    "# Importeren van relevante modules\n",
    "from selenium import webdriver\n",
    "from webdriver_manager.chrome import ChromeDriverManager\n",
    "from selenium.webdriver.support import expected_conditions\n",
    "from selenium.common.exceptions import TimeoutException\n",
    "from selenium.webdriver.support.ui import WebDriverWait\n",
    "from selenium.webdriver.common.by import By\n",
    "import time\n",
    "\n",
    "#Definieer variabelen\n",
    "browser = webdriver.Chrome(ChromeDriverManager().install())\n",
    "url = 'https://newsroom.spotify.com/'\n",
    "\n",
    "\n",
    "#Start de webdriver op basis van de variabele (url)\n",
    "browser.get(url)\n",
    "\n",
    "#Gebruik de time.sleep functie todat de button geladen is en zichtbaar is op de pagina\n",
    "time.sleep(10) \n",
    "\n",
    "#Definieer een variabele genaamd button die de button opzoekt aan de hand van zijn class name\n",
    "button = browser.find_element_by_class_name('load-more')\n",
    "\n",
    "\n",
    "#Click op de button\n",
    "button.click()\n",
    "\n",
    "#Start het loopje. Het loopje begint met een waarde van i = 1.\n",
    "\n",
    "i = 1\n",
    "while i <= 150:               #Hier kun je aangeven hoe vaak het loopje loopt, momenteel 150 keer\n",
    "    button.click()          #Click op de button\n",
    "    time.sleep(3)           #Sleep\n",
    "    i += 1                  #Hoog de waarde van i op met 1\n",
    "\n",
    "\n",
    "#loop is afgelopen, dus nu openen we het lege excel bestand in een variabele genaamd \"f\"\n",
    "f=open('articles.csv', 'w', encoding='UTF-8')\n",
    "\n",
    "#maak een variabele genaamd \"articles\", en vul deze met alle recent-headers\n",
    "articles = browser.find_elements_by_class_name('recent-header')\n",
    "\n",
    "#for-loopje dat per artikel de plain tekst splitst, en de css selector gebruikt om de datum en de href per article te schrijven naar het excel file\n",
    "for art in articles:\n",
    "    splitobj = art.text.split('\\n')\n",
    "    f.write(splitobj[0]+'\\t'+splitobj[-1]+'\\t'+art.find_elements_by_css_selector('*')[2].get_attribute('href')+'\\n')\n",
    "\n",
    "\n",
    "#nadat alles geschreven is naar het excel file, sluiten we de variabele \"f\" en slaan we hem op\n",
    "f.close()\n"
   ]
  },
  {
   "cell_type": "code",
   "execution_count": null,
   "metadata": {},
   "outputs": [],
   "source": []
  },
  {
   "cell_type": "code",
   "execution_count": null,
   "metadata": {},
   "outputs": [],
   "source": []
  }
 ],
 "metadata": {
  "kernelspec": {
   "display_name": "Python 3",
   "language": "python",
   "name": "python3"
  },
  "language_info": {
   "codemirror_mode": {
    "name": "ipython",
    "version": 3
   },
   "file_extension": ".py",
   "mimetype": "text/x-python",
   "name": "python",
   "nbconvert_exporter": "python",
   "pygments_lexer": "ipython3",
   "version": "3.7.6"
  }
 },
 "nbformat": 4,
 "nbformat_minor": 4
}
